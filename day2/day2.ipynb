{
 "cells": [
  {
   "cell_type": "code",
   "execution_count": 17,
   "metadata": {},
   "outputs": [
    {
     "name": "stdout",
     "output_type": "stream",
     "text": [
      "493\n",
      "41\n",
      "1044\n",
      "98\n",
      "824\n",
      "72\n",
      "335\n",
      "90\n",
      "4559\n",
      "106\n",
      "4009\n",
      "134\n",
      "2016\n",
      "79\n",
      "575\n",
      "38\n",
      "635\n",
      "188\n",
      "1464\n",
      "43\n",
      "1571\n",
      "58\n",
      "512\n",
      "61\n",
      "792\n",
      "117\n",
      "665\n",
      "132\n",
      "1181\n",
      "124\n",
      "2626\n",
      "75\n"
     ]
    },
    {
     "data": {
      "text/plain": [
       "21845"
      ]
     },
     "execution_count": 17,
     "metadata": {},
     "output_type": "execute_result"
    }
   ],
   "source": [
    "f = open('input')\n",
    "data = [line for line in f]\n",
    "count = 0\n",
    "for line in data:\n",
    "    min = int(line.split()[0])\n",
    "    max = min\n",
    "    for num in line.split():\n",
    "        number = int(num)\n",
    "        if number < min:\n",
    "            min = number\n",
    "        elif number > max:\n",
    "            max = number\n",
    "    print(max)\n",
    "    print(min)\n",
    "    count += (max - min)\n",
    "count"
   ]
  },
  {
   "cell_type": "code",
   "execution_count": null,
   "metadata": {},
   "outputs": [],
   "source": []
  }
 ],
 "metadata": {
  "kernelspec": {
   "display_name": "Python 3",
   "language": "python",
   "name": "python3"
  },
  "language_info": {
   "codemirror_mode": {
    "name": "ipython",
    "version": 3
   },
   "file_extension": ".py",
   "mimetype": "text/x-python",
   "name": "python",
   "nbconvert_exporter": "python",
   "pygments_lexer": "ipython3",
   "version": "3.6.1"
  }
 },
 "nbformat": 4,
 "nbformat_minor": 2
}
